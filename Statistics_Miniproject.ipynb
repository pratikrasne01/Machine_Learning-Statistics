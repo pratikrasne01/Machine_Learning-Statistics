{
  "nbformat": 4,
  "nbformat_minor": 0,
  "metadata": {
    "colab": {
      "name": "Statistics Miniproject.ipynb",
      "provenance": [],
      "collapsed_sections": []
    },
    "kernelspec": {
      "name": "python3",
      "display_name": "Python 3"
    },
    "language_info": {
      "name": "python"
    }
  },
  "cells": [
    {
      "cell_type": "markdown",
      "metadata": {
        "id": "kHiu_44A6NWk"
      },
      "source": [
        "**IMPORT ALL THE LIBRARIES**"
      ]
    },
    {
      "cell_type": "code",
      "metadata": {
        "id": "RsCoIdj-5-pL"
      },
      "source": [
        "import pandas as pd\n",
        "import numpy as np\n",
        "from math import *\n",
        "from tabulate import tabulate\n",
        "import matplotlib.pyplot as plt"
      ],
      "execution_count": null,
      "outputs": []
    },
    {
      "cell_type": "markdown",
      "metadata": {
        "id": "uCxoRoWm6ujq"
      },
      "source": [
        "**TAKE INPUT FROM USER**"
      ]
    },
    {
      "cell_type": "code",
      "metadata": {
        "colab": {
          "base_uri": "https://localhost:8080/"
        },
        "id": "aEWLcYLy6set",
        "outputId": "11d28965-baad-45ac-a69a-98927fcae41f"
      },
      "source": [
        "m = int(input(\"Enter the number of datasets you want:- \"))\n",
        "n = int(input(\"Enter the number of readings you want:- \"))\n",
        "\n",
        "np.random.seed(n)\n",
        "data = pd.DataFrame(np.random.randn(n,m))\n",
        "print(\"The given Dataset is as follows:- \")\n",
        "print(data)"
      ],
      "execution_count": null,
      "outputs": [
        {
          "output_type": "stream",
          "name": "stdout",
          "text": [
            "Enter the number of datasets you want:- 2\n",
            "Enter the number of readings you want:- 10\n",
            "The given Dataset is as follows:- \n",
            "          0         1\n",
            "0  1.331587  0.715279\n",
            "1 -1.545400 -0.008384\n",
            "2  0.621336 -0.720086\n",
            "3  0.265512  0.108549\n",
            "4  0.004291 -0.174600\n",
            "5  0.433026  1.203037\n",
            "6 -0.965066  1.028274\n",
            "7  0.228630  0.445138\n",
            "8 -1.136602  0.135137\n",
            "9  1.484537 -1.079805\n"
          ]
        }
      ]
    },
    {
      "cell_type": "markdown",
      "metadata": {
        "id": "RlBdOcMi73HD"
      },
      "source": [
        "**CALCULATE THE CENTRAL TENDENCY MEASURES**"
      ]
    },
    {
      "cell_type": "code",
      "metadata": {
        "colab": {
          "base_uri": "https://localhost:8080/"
        },
        "id": "hIs_lh5178Oq",
        "outputId": "c7b36b11-f96f-42c4-8ea7-dc43de25cca5"
      },
      "source": [
        "p = int(input(\"Ener the dataset number you want to analyse:- \"))\n",
        "m1 = data[p].mean()\n",
        "m2 = data[p].median()\n",
        "m3 = data[p].mode()\n",
        "print(\"The mean of the dataset\", p, \"is\",m1)\n",
        "print(\"The median of the dataset\", p, \"is\",m2)\n",
        "print(\"The mode of the dataset\", p, \"is\\n\",m3)"
      ],
      "execution_count": null,
      "outputs": [
        {
          "output_type": "stream",
          "name": "stdout",
          "text": [
            "Ener the dataset number you want to analyse:- 1\n",
            "The mean of the dataset 1 is 0.16525389361616374\n",
            "The median of the dataset 1 is 0.12184270208180248\n",
            "The mode of the dataset 1 is\n",
            " 0   -1.079805\n",
            "1   -0.720086\n",
            "2   -0.174600\n",
            "3   -0.008384\n",
            "4    0.108549\n",
            "5    0.135137\n",
            "6    0.445138\n",
            "7    0.715279\n",
            "8    1.028274\n",
            "9    1.203037\n",
            "dtype: float64\n"
          ]
        }
      ]
    },
    {
      "cell_type": "markdown",
      "metadata": {
        "id": "1ANHSxVcBxPX"
      },
      "source": [
        "**CALCULATE DISPERSION VALUES**"
      ]
    },
    {
      "cell_type": "code",
      "metadata": {
        "colab": {
          "base_uri": "https://localhost:8080/"
        },
        "id": "vpENETWeB0m_",
        "outputId": "5e9d82e1-3617-4a3d-f833-29748ba2f01d"
      },
      "source": [
        "v1 = data[p].var()\n",
        "v2 = data[p].std()\n",
        "v3 = data[p].max()-data[p].min()\n",
        "v4 = data[p].quantile([.25,.5,.75])\n",
        "\n",
        "print(\"The variance of the given dataset is:- \",v1)\n",
        "\n",
        "print(\"The Standard deviation of the given dataset is:- \",v2)\n",
        "\n",
        "print(\"The range of the given dataset is:- \",v3)\n",
        "\n",
        "print(\"The InterQuartile Range(IQR) of the given dataset is:-\\n\",v4)"
      ],
      "execution_count": null,
      "outputs": [
        {
          "output_type": "stream",
          "name": "stdout",
          "text": [
            "The variance of the given dataset is:-  0.5207146223568816\n",
            "The Standard deviation of the given dataset is:-  0.7216055864229999\n",
            "The range of the given dataset is:-  2.282842259597488\n",
            "The InterQuartile Range(IQR) of the given dataset is:-\n",
            " 0.25   -0.133046\n",
            "0.50    0.121843\n",
            "0.75    0.647744\n",
            "Name: 1, dtype: float64\n"
          ]
        }
      ]
    },
    {
      "cell_type": "markdown",
      "metadata": {
        "id": "WzKzQIBxC4Y4"
      },
      "source": [
        "**Calculate the skewness and kurtosis:-**"
      ]
    },
    {
      "cell_type": "code",
      "metadata": {
        "colab": {
          "base_uri": "https://localhost:8080/"
        },
        "id": "V4pMG_XDC9I_",
        "outputId": "c8ad327a-635d-4a7a-c019-58439fbae411"
      },
      "source": [
        "h = data[p].skew()\n",
        "print(\"The skewness of the given dataset is:- \",h)\n",
        "if h<0:\n",
        "  print(\"As h is negative, Dataset\",p,\"is not symmetric and right side tail is longer than left side tail of the density plot.\")\n",
        "elif h==0:\n",
        "  print(\"Dataset\",p,\"is symmetric along with mean\")\n",
        "else:\n",
        "  print(\"Dataset\",p,\"is positive and hence not symmetric and left side tail is longer than right side tail in density plot.\")\n",
        "\n",
        "print(\"**-------------------**---------------------**---------------------**---------------------**---------------------------**\")\n",
        "\n",
        "j = data[p].kurt()\n",
        "print(\"The kurtosis parameter of the given dataset is:- \",j)\n",
        "if j<0:\n",
        "  print(\"Negative values of kurtosis indicate that a distribution is flat and is called as Platykurtic Distribution\")\n",
        "elif j==0:\n",
        "  print(\"Peakness of graph is equal to normal distribution and is called as Mesokurtic Distibution.\")\n",
        "else:\n",
        "  print(\"Positive values of kurtosis indicate that a distribution is peaked and is called as Leptokurtic distributions.\")\n"
      ],
      "execution_count": null,
      "outputs": [
        {
          "output_type": "stream",
          "name": "stdout",
          "text": [
            "The skewness of the given dataset is:-  -0.2661023642795693\n",
            "As h is negative, Dataset 1 is not symmetric and right side tail is longer than left side tail of the density plot.\n",
            "**-------------------**---------------------**---------------------**---------------------**---------------------------**\n",
            "The kurtosis parameter of the given dataset is:-  -0.44017711974252727\n",
            "Negative values of kurtosis indicate that a distribution is flat and is called as Platykurtic Distribution\n"
          ]
        }
      ]
    },
    {
      "cell_type": "markdown",
      "metadata": {
        "id": "XEJfgHrjNVqp"
      },
      "source": [
        "**TABULATE THE RESULTS**"
      ]
    },
    {
      "cell_type": "code",
      "metadata": {
        "colab": {
          "base_uri": "https://localhost:8080/"
        },
        "id": "YYycVUmNNZR7",
        "outputId": "5a11a531-ddaf-4421-ba9c-2f7df3b74384"
      },
      "source": [
        "z = []\n",
        "t = [round(m1,3),round(m2,3),round(m3,3),round(v1,3),round(v2,3),round(v3,3),round(h,3),round(j,3)]\n",
        "z.append(t)\n",
        "table = tabulate(z,headers=['Mean ','Median ','Mode ','Variance ','Standard Deviation ','Range ','Skewness ','Kurosis '], tablefmt='pretty')\n",
        "print(table)"
      ],
      "execution_count": null,
      "outputs": [
        {
          "output_type": "stream",
          "name": "stdout",
          "text": [
            "+-------+---------+----------------+-----------+---------------------+--------+-----------+----------+\n",
            "| Mean  | Median  |     Mode       | Variance  | Standard Deviation  | Range  | Skewness  | Kurosis  |\n",
            "+-------+---------+----------------+-----------+---------------------+--------+-----------+----------+\n",
            "| 0.165 |  0.122  |   0   -1.080   |   0.521   |        0.722        | 2.283  |  -0.266   |  -0.44   |\n",
            "|       |         |   1   -0.720   |           |                     |        |           |          |\n",
            "|       |         |   2   -0.175   |           |                     |        |           |          |\n",
            "|       |         |   3   -0.008   |           |                     |        |           |          |\n",
            "|       |         |   4    0.109   |           |                     |        |           |          |\n",
            "|       |         |   5    0.135   |           |                     |        |           |          |\n",
            "|       |         |   6    0.445   |           |                     |        |           |          |\n",
            "|       |         |   7    0.715   |           |                     |        |           |          |\n",
            "|       |         |   8    1.028   |           |                     |        |           |          |\n",
            "|       |         |   9    1.203   |           |                     |        |           |          |\n",
            "|       |         | dtype: float64 |           |                     |        |           |          |\n",
            "+-------+---------+----------------+-----------+---------------------+--------+-----------+----------+\n"
          ]
        }
      ]
    },
    {
      "cell_type": "markdown",
      "metadata": {
        "id": "IVv1udlyKlY7"
      },
      "source": [
        "**USE HISTOGRAM TO REPRESENT THE FOLLOWING:-**"
      ]
    },
    {
      "cell_type": "code",
      "metadata": {
        "colab": {
          "base_uri": "https://localhost:8080/",
          "height": 351
        },
        "id": "Faf0kzVWKrUZ",
        "outputId": "86d511a5-0f23-4a31-962e-30a58b52ae1d"
      },
      "source": [
        "import seaborn as sns\n",
        "sns.distplot(data[p])"
      ],
      "execution_count": null,
      "outputs": [
        {
          "output_type": "stream",
          "name": "stderr",
          "text": [
            "/usr/local/lib/python3.7/dist-packages/seaborn/distributions.py:2619: FutureWarning: `distplot` is a deprecated function and will be removed in a future version. Please adapt your code to use either `displot` (a figure-level function with similar flexibility) or `histplot` (an axes-level function for histograms).\n",
            "  warnings.warn(msg, FutureWarning)\n"
          ]
        },
        {
          "output_type": "execute_result",
          "data": {
            "text/plain": [
              "<matplotlib.axes._subplots.AxesSubplot at 0x7f3ed8d77090>"
            ]
          },
          "metadata": {},
          "execution_count": 8
        },
        {
          "output_type": "display_data",
          "data": {
            "image/png": "[encoded data removed]",
            "text/plain": [
              "<Figure size 432x288 with 1 Axes>"
            ]
          },
          "metadata": {
            "needs_background": "light"
          }
        }
      ]
    },
    {
      "cell_type": "markdown",
      "metadata": {
        "id": "JZb8ifW0NLnh"
      },
      "source": [
        "**PIE CHART REPRESENTATION**"
      ]
    },
    {
      "cell_type": "code",
      "metadata": {
        "colab": {
          "base_uri": "https://localhost:8080/",
          "height": 248
        },
        "id": "T8EEyYGSLgrg",
        "outputId": "c240eda8-4789-44a0-b4e6-fd0d888bc96b"
      },
      "source": [
        "plt.pie(data[p])\n",
        "plt.show()"
      ],
      "execution_count": null,
      "outputs": [
        {
          "output_type": "display_data",
          "data": {
            "image/png": "[encoded data removed]",
            "text/plain": [
              "<Figure size 432x288 with 1 Axes>"
            ]
          },
          "metadata": {}
        }
      ]
    },
    {
      "cell_type": "markdown",
      "metadata": {
        "id": "uerl-G2jpQtV"
      },
      "source": [
        "**SCATTER DIAGRAM MODE AND DENSITY**"
      ]
    },
    {
      "cell_type": "code",
      "metadata": {
        "colab": {
          "base_uri": "https://localhost:8080/",
          "height": 295
        },
        "id": "TkFhtI4ipU2-",
        "outputId": "0d0c52ca-497b-4a55-8226-ab5a6b43ab21"
      },
      "source": [
        "plt.scatter(m3,data[p])\n",
        "plt.title(\"Mode v/s Density Graph\") #title\n",
        "plt.xlabel(\"Mode\") #x label\n",
        "plt.ylabel(\"Density\") #y label\n",
        "plt.show()"
      ],
      "execution_count": null,
      "outputs": [
        {
          "output_type": "display_data",
          "data": {
            "image/png": "[encoded data removed]",
            "text/plain": [
              "<Figure size 432x288 with 1 Axes>"
            ]
          },
          "metadata": {
            "needs_background": "light"
          }
        }
      ]
    },
    {
      "cell_type": "code",
      "metadata": {
        "colab": {
          "base_uri": "https://localhost:8080/",
          "height": 295
        },
        "id": "HrajQkqhpx_m",
        "outputId": "0c8b36d4-ce63-4c9f-fe9c-14b307615708"
      },
      "source": [
        "plt.scatter(data[p],m3)\n",
        "\n",
        "plt.title(\"Mode v/s Density Graph\") #title\n",
        "plt.ylabel(\"Mode\") #x label\n",
        "plt.xlabel(\"Density\") #y label\n",
        "plt.show()"
      ],
      "execution_count": null,
      "outputs": [
        {
          "output_type": "display_data",
          "data": {
            "image/png": "[encoded data removed]",
            "text/plain": [
              "<Figure size 432x288 with 1 Axes>"
            ]
          },
          "metadata": {
            "needs_background": "light"
          }
        }
      ]
    }
  ]
}